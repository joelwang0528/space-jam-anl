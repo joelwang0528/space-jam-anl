{
 "cells": [
  {
   "cell_type": "code",
   "execution_count": 13,
   "metadata": {},
   "outputs": [],
   "source": [
    "import pandas as pd"
   ]
  },
  {
   "cell_type": "code",
   "execution_count": 14,
   "metadata": {},
   "outputs": [],
   "source": [
    "# Import the CSV file and create a DataFrame.\r\n",
    "player_df_final = pd.read_csv('player_data_final.csv')"
   ]
  },
  {
   "cell_type": "code",
   "execution_count": 15,
   "metadata": {},
   "outputs": [
    {
     "data": {
      "text/html": "<div>\n<style scoped>\n    .dataframe tbody tr th:only-of-type {\n        vertical-align: middle;\n    }\n\n    .dataframe tbody tr th {\n        vertical-align: top;\n    }\n\n    .dataframe thead th {\n        text-align: right;\n    }\n</style>\n<table border=\"1\" class=\"dataframe\">\n  <thead>\n    <tr style=\"text-align: right;\">\n      <th></th>\n      <th>ID</th>\n      <th>player</th>\n      <th>points</th>\n      <th>possessions</th>\n      <th>team_pace</th>\n      <th>GP</th>\n      <th>MPG</th>\n      <th>TS%</th>\n      <th>AST</th>\n      <th>TO</th>\n      <th>USG</th>\n      <th>ORR</th>\n      <th>DRR</th>\n      <th>REBR</th>\n      <th>PER</th>\n    </tr>\n  </thead>\n  <tbody>\n    <tr>\n      <th>26</th>\n      <td>31</td>\n      <td>tune_squad1</td>\n      <td>2049.0</td>\n      <td>1434.0</td>\n      <td>110.0</td>\n      <td>64.000000</td>\n      <td>38.800000</td>\n      <td>0.619</td>\n      <td>31.5</td>\n      <td>14.9</td>\n      <td>35.5</td>\n      <td>8.3</td>\n      <td>17.6</td>\n      <td>12.8</td>\n      <td>28.440000</td>\n    </tr>\n    <tr>\n      <th>27</th>\n      <td>32</td>\n      <td>tune_squad2</td>\n      <td>1795.0</td>\n      <td>1481.8</td>\n      <td>112.1</td>\n      <td>62.000000</td>\n      <td>35.400000</td>\n      <td>0.608</td>\n      <td>31.9</td>\n      <td>14.5</td>\n      <td>32.0</td>\n      <td>6.5</td>\n      <td>22.5</td>\n      <td>12.9</td>\n      <td>23.340000</td>\n    </tr>\n    <tr>\n      <th>28</th>\n      <td>33</td>\n      <td>tune_squad3</td>\n      <td>1805.0</td>\n      <td>1509.9</td>\n      <td>108.6</td>\n      <td>64.000000</td>\n      <td>35.400000</td>\n      <td>0.622</td>\n      <td>27.9</td>\n      <td>13.9</td>\n      <td>36.0</td>\n      <td>5.9</td>\n      <td>27.7</td>\n      <td>12.2</td>\n      <td>22.410000</td>\n    </tr>\n    <tr>\n      <th>29</th>\n      <td>34</td>\n      <td>tune_squad4</td>\n      <td>1743.0</td>\n      <td>1422.4</td>\n      <td>112.9</td>\n      <td>64.000000</td>\n      <td>36.300000</td>\n      <td>0.619</td>\n      <td>30.9</td>\n      <td>15.6</td>\n      <td>34.5</td>\n      <td>5.9</td>\n      <td>18.9</td>\n      <td>14.8</td>\n      <td>29.853138</td>\n    </tr>\n    <tr>\n      <th>30</th>\n      <td>35</td>\n      <td>tune_squad5</td>\n      <td>1963.0</td>\n      <td>1539.1</td>\n      <td>117.4</td>\n      <td>59.771429</td>\n      <td>35.208333</td>\n      <td>0.633</td>\n      <td>32.3</td>\n      <td>16.2</td>\n      <td>34.0</td>\n      <td>5.9</td>\n      <td>19.8</td>\n      <td>13.1</td>\n      <td>27.160000</td>\n    </tr>\n    <tr>\n      <th>31</th>\n      <td>36</td>\n      <td>tune_squad6</td>\n      <td>2062.0</td>\n      <td>1505.7</td>\n      <td>111.5</td>\n      <td>59.771429</td>\n      <td>37.000000</td>\n      <td>0.620</td>\n      <td>29.8</td>\n      <td>15.6</td>\n      <td>36.2</td>\n      <td>4.9</td>\n      <td>23.9</td>\n      <td>14.7</td>\n      <td>27.860000</td>\n    </tr>\n    <tr>\n      <th>32</th>\n      <td>37</td>\n      <td>tune_squad7</td>\n      <td>1845.0</td>\n      <td>1435.7</td>\n      <td>113.1</td>\n      <td>69.000000</td>\n      <td>36.900000</td>\n      <td>0.634</td>\n      <td>33.2</td>\n      <td>14.0</td>\n      <td>36.5</td>\n      <td>4.1</td>\n      <td>21.5</td>\n      <td>16.4</td>\n      <td>34.260000</td>\n    </tr>\n    <tr>\n      <th>33</th>\n      <td>38</td>\n      <td>tune_squad8</td>\n      <td>1778.0</td>\n      <td>1526.4</td>\n      <td>109.3</td>\n      <td>66.000000</td>\n      <td>34.900000</td>\n      <td>0.612</td>\n      <td>30.6</td>\n      <td>15.9</td>\n      <td>35.9</td>\n      <td>5.5</td>\n      <td>18.8</td>\n      <td>13.7</td>\n      <td>28.650000</td>\n    </tr>\n    <tr>\n      <th>34</th>\n      <td>39</td>\n      <td>tune_squad9</td>\n      <td>1901.0</td>\n      <td>1444.1</td>\n      <td>109.7</td>\n      <td>67.000000</td>\n      <td>36.500000</td>\n      <td>0.609</td>\n      <td>27.2</td>\n      <td>14.8</td>\n      <td>35.5</td>\n      <td>5.0</td>\n      <td>21.8</td>\n      <td>8.9</td>\n      <td>20.120000</td>\n    </tr>\n    <tr>\n      <th>35</th>\n      <td>41</td>\n      <td>tune_squad11</td>\n      <td>2030.0</td>\n      <td>1431.0</td>\n      <td>112.3</td>\n      <td>68.000000</td>\n      <td>37.000000</td>\n      <td>0.618</td>\n      <td>32.5</td>\n      <td>15.3</td>\n      <td>34.5</td>\n      <td>5.7</td>\n      <td>15.7</td>\n      <td>13.2</td>\n      <td>30.070000</td>\n    </tr>\n    <tr>\n      <th>36</th>\n      <td>42</td>\n      <td>tune_squad12</td>\n      <td>1631.0</td>\n      <td>1465.7</td>\n      <td>110.1</td>\n      <td>66.000000</td>\n      <td>37.500000</td>\n      <td>0.613</td>\n      <td>28.4</td>\n      <td>14.4</td>\n      <td>35.7</td>\n      <td>6.5</td>\n      <td>20.7</td>\n      <td>14.0</td>\n      <td>28.400000</td>\n    </tr>\n    <tr>\n      <th>37</th>\n      <td>43</td>\n      <td>tune_squad13</td>\n      <td>1828.0</td>\n      <td>1507.2</td>\n      <td>112.7</td>\n      <td>64.000000</td>\n      <td>36.500000</td>\n      <td>0.618</td>\n      <td>31.3</td>\n      <td>14.0</td>\n      <td>34.9</td>\n      <td>5.9</td>\n      <td>21.3</td>\n      <td>14.5</td>\n      <td>29.094310</td>\n    </tr>\n    <tr>\n      <th>38</th>\n      <td>44</td>\n      <td>tune_squad14</td>\n      <td>1821.0</td>\n      <td>1443.7</td>\n      <td>118.8</td>\n      <td>66.000000</td>\n      <td>36.600000</td>\n      <td>0.609</td>\n      <td>27.3</td>\n      <td>13.5</td>\n      <td>35.8</td>\n      <td>7.0</td>\n      <td>23.8</td>\n      <td>11.5</td>\n      <td>22.960000</td>\n    </tr>\n    <tr>\n      <th>39</th>\n      <td>45</td>\n      <td>tune_squad15</td>\n      <td>1740.0</td>\n      <td>1443.9</td>\n      <td>114.1</td>\n      <td>68.000000</td>\n      <td>37.100000</td>\n      <td>0.611</td>\n      <td>26.6</td>\n      <td>15.2</td>\n      <td>29.3</td>\n      <td>8.3</td>\n      <td>17.7</td>\n      <td>11.1</td>\n      <td>21.220000</td>\n    </tr>\n    <tr>\n      <th>40</th>\n      <td>46</td>\n      <td>tune_squad16</td>\n      <td>1993.0</td>\n      <td>1459.0</td>\n      <td>112.5</td>\n      <td>59.771429</td>\n      <td>36.900000</td>\n      <td>0.627</td>\n      <td>30.4</td>\n      <td>15.0</td>\n      <td>33.7</td>\n      <td>6.3</td>\n      <td>19.3</td>\n      <td>14.1</td>\n      <td>28.760000</td>\n    </tr>\n  </tbody>\n</table>\n</div>",
      "text/plain": "    ID        player  points  possessions  team_pace         GP        MPG  \\\n26  31   tune_squad1  2049.0       1434.0      110.0  64.000000  38.800000   \n27  32   tune_squad2  1795.0       1481.8      112.1  62.000000  35.400000   \n28  33   tune_squad3  1805.0       1509.9      108.6  64.000000  35.400000   \n29  34   tune_squad4  1743.0       1422.4      112.9  64.000000  36.300000   \n30  35   tune_squad5  1963.0       1539.1      117.4  59.771429  35.208333   \n31  36   tune_squad6  2062.0       1505.7      111.5  59.771429  37.000000   \n32  37   tune_squad7  1845.0       1435.7      113.1  69.000000  36.900000   \n33  38   tune_squad8  1778.0       1526.4      109.3  66.000000  34.900000   \n34  39   tune_squad9  1901.0       1444.1      109.7  67.000000  36.500000   \n35  41  tune_squad11  2030.0       1431.0      112.3  68.000000  37.000000   \n36  42  tune_squad12  1631.0       1465.7      110.1  66.000000  37.500000   \n37  43  tune_squad13  1828.0       1507.2      112.7  64.000000  36.500000   \n38  44  tune_squad14  1821.0       1443.7      118.8  66.000000  36.600000   \n39  45  tune_squad15  1740.0       1443.9      114.1  68.000000  37.100000   \n40  46  tune_squad16  1993.0       1459.0      112.5  59.771429  36.900000   \n\n      TS%   AST    TO   USG  ORR   DRR  REBR        PER  \n26  0.619  31.5  14.9  35.5  8.3  17.6  12.8  28.440000  \n27  0.608  31.9  14.5  32.0  6.5  22.5  12.9  23.340000  \n28  0.622  27.9  13.9  36.0  5.9  27.7  12.2  22.410000  \n29  0.619  30.9  15.6  34.5  5.9  18.9  14.8  29.853138  \n30  0.633  32.3  16.2  34.0  5.9  19.8  13.1  27.160000  \n31  0.620  29.8  15.6  36.2  4.9  23.9  14.7  27.860000  \n32  0.634  33.2  14.0  36.5  4.1  21.5  16.4  34.260000  \n33  0.612  30.6  15.9  35.9  5.5  18.8  13.7  28.650000  \n34  0.609  27.2  14.8  35.5  5.0  21.8   8.9  20.120000  \n35  0.618  32.5  15.3  34.5  5.7  15.7  13.2  30.070000  \n36  0.613  28.4  14.4  35.7  6.5  20.7  14.0  28.400000  \n37  0.618  31.3  14.0  34.9  5.9  21.3  14.5  29.094310  \n38  0.609  27.3  13.5  35.8  7.0  23.8  11.5  22.960000  \n39  0.611  26.6  15.2  29.3  8.3  17.7  11.1  21.220000  \n40  0.627  30.4  15.0  33.7  6.3  19.3  14.1  28.760000  "
     },
     "execution_count": 15,
     "metadata": {},
     "output_type": "execute_result"
    }
   ],
   "source": [
    "# Create a DataFrame of only Tune Squad players.\r\n",
    "ts_df = player_df_final.iloc[26: , :]\r\n",
    "ts_df"
   ]
  },
  {
   "cell_type": "code",
   "execution_count": 16,
   "metadata": {},
   "outputs": [
    {
     "data": {
      "text/html": "<div>\n<style scoped>\n    .dataframe tbody tr th:only-of-type {\n        vertical-align: middle;\n    }\n\n    .dataframe tbody tr th {\n        vertical-align: top;\n    }\n\n    .dataframe thead th {\n        text-align: right;\n    }\n</style>\n<table border=\"1\" class=\"dataframe\">\n  <thead>\n    <tr style=\"text-align: right;\">\n      <th></th>\n      <th>ID</th>\n      <th>player</th>\n    </tr>\n  </thead>\n  <tbody>\n    <tr>\n      <th>0</th>\n      <td>31</td>\n      <td>Sylvester</td>\n    </tr>\n    <tr>\n      <th>1</th>\n      <td>32</td>\n      <td>Marvin the Martian</td>\n    </tr>\n    <tr>\n      <th>2</th>\n      <td>33</td>\n      <td>Road Runner</td>\n    </tr>\n    <tr>\n      <th>3</th>\n      <td>34</td>\n      <td>Foghorn Leghorn</td>\n    </tr>\n    <tr>\n      <th>4</th>\n      <td>35</td>\n      <td>Bugs Bunny</td>\n    </tr>\n    <tr>\n      <th>5</th>\n      <td>36</td>\n      <td>Elmer Fudd</td>\n    </tr>\n    <tr>\n      <th>6</th>\n      <td>37</td>\n      <td>Lola Bunny</td>\n    </tr>\n    <tr>\n      <th>7</th>\n      <td>38</td>\n      <td>Porky Pig</td>\n    </tr>\n    <tr>\n      <th>8</th>\n      <td>39</td>\n      <td>Tasmanian Devil</td>\n    </tr>\n    <tr>\n      <th>9</th>\n      <td>40</td>\n      <td>Yosemite Sam</td>\n    </tr>\n    <tr>\n      <th>10</th>\n      <td>41</td>\n      <td>Gossamer</td>\n    </tr>\n    <tr>\n      <th>11</th>\n      <td>42</td>\n      <td>Granny</td>\n    </tr>\n    <tr>\n      <th>12</th>\n      <td>43</td>\n      <td>Wile E. Coyote</td>\n    </tr>\n    <tr>\n      <th>13</th>\n      <td>44</td>\n      <td>Tweety</td>\n    </tr>\n    <tr>\n      <th>14</th>\n      <td>45</td>\n      <td>Penelope</td>\n    </tr>\n    <tr>\n      <th>15</th>\n      <td>46</td>\n      <td>Daffy Duck</td>\n    </tr>\n  </tbody>\n</table>\n</div>",
      "text/plain": "    ID              player\n0   31           Sylvester\n1   32  Marvin the Martian\n2   33         Road Runner\n3   34     Foghorn Leghorn\n4   35          Bugs Bunny\n5   36          Elmer Fudd\n6   37          Lola Bunny\n7   38           Porky Pig\n8   39     Tasmanian Devil\n9   40        Yosemite Sam\n10  41            Gossamer\n11  42              Granny\n12  43      Wile E. Coyote\n13  44              Tweety\n14  45            Penelope\n15  46          Daffy Duck"
     },
     "execution_count": 16,
     "metadata": {},
     "output_type": "execute_result"
    }
   ],
   "source": [
    "ts_name_df = pd.read_csv('tune_squad.csv',sep='\\t')\r\n",
    "ts_name_df"
   ]
  },
  {
   "cell_type": "code",
   "execution_count": 17,
   "metadata": {},
   "outputs": [
    {
     "data": {
      "text/html": "<div>\n<style scoped>\n    .dataframe tbody tr th:only-of-type {\n        vertical-align: middle;\n    }\n\n    .dataframe tbody tr th {\n        vertical-align: top;\n    }\n\n    .dataframe thead th {\n        text-align: right;\n    }\n</style>\n<table border=\"1\" class=\"dataframe\">\n  <thead>\n    <tr style=\"text-align: right;\">\n      <th></th>\n      <th>ID</th>\n      <th>player_type</th>\n      <th>points</th>\n      <th>possessions</th>\n      <th>team_pace</th>\n      <th>GP</th>\n      <th>MPG</th>\n      <th>TS%</th>\n      <th>AST</th>\n      <th>TO</th>\n      <th>USG</th>\n      <th>ORR</th>\n      <th>DRR</th>\n      <th>REBR</th>\n      <th>PER</th>\n      <th>player_name</th>\n    </tr>\n  </thead>\n  <tbody>\n    <tr>\n      <th>0</th>\n      <td>31</td>\n      <td>tune_squad1</td>\n      <td>2049.0</td>\n      <td>1434.0</td>\n      <td>110.0</td>\n      <td>64.000000</td>\n      <td>38.800000</td>\n      <td>0.619</td>\n      <td>31.5</td>\n      <td>14.9</td>\n      <td>35.5</td>\n      <td>8.3</td>\n      <td>17.6</td>\n      <td>12.8</td>\n      <td>28.440000</td>\n      <td>Sylvester</td>\n    </tr>\n    <tr>\n      <th>1</th>\n      <td>32</td>\n      <td>tune_squad2</td>\n      <td>1795.0</td>\n      <td>1481.8</td>\n      <td>112.1</td>\n      <td>62.000000</td>\n      <td>35.400000</td>\n      <td>0.608</td>\n      <td>31.9</td>\n      <td>14.5</td>\n      <td>32.0</td>\n      <td>6.5</td>\n      <td>22.5</td>\n      <td>12.9</td>\n      <td>23.340000</td>\n      <td>Marvin the Martian</td>\n    </tr>\n    <tr>\n      <th>2</th>\n      <td>33</td>\n      <td>tune_squad3</td>\n      <td>1805.0</td>\n      <td>1509.9</td>\n      <td>108.6</td>\n      <td>64.000000</td>\n      <td>35.400000</td>\n      <td>0.622</td>\n      <td>27.9</td>\n      <td>13.9</td>\n      <td>36.0</td>\n      <td>5.9</td>\n      <td>27.7</td>\n      <td>12.2</td>\n      <td>22.410000</td>\n      <td>Road Runner</td>\n    </tr>\n    <tr>\n      <th>3</th>\n      <td>34</td>\n      <td>tune_squad4</td>\n      <td>1743.0</td>\n      <td>1422.4</td>\n      <td>112.9</td>\n      <td>64.000000</td>\n      <td>36.300000</td>\n      <td>0.619</td>\n      <td>30.9</td>\n      <td>15.6</td>\n      <td>34.5</td>\n      <td>5.9</td>\n      <td>18.9</td>\n      <td>14.8</td>\n      <td>29.853138</td>\n      <td>Foghorn Leghorn</td>\n    </tr>\n    <tr>\n      <th>4</th>\n      <td>35</td>\n      <td>tune_squad5</td>\n      <td>1963.0</td>\n      <td>1539.1</td>\n      <td>117.4</td>\n      <td>59.771429</td>\n      <td>35.208333</td>\n      <td>0.633</td>\n      <td>32.3</td>\n      <td>16.2</td>\n      <td>34.0</td>\n      <td>5.9</td>\n      <td>19.8</td>\n      <td>13.1</td>\n      <td>27.160000</td>\n      <td>Bugs Bunny</td>\n    </tr>\n  </tbody>\n</table>\n</div>",
      "text/plain": "   ID  player_type  points  possessions  team_pace         GP        MPG  \\\n0  31  tune_squad1  2049.0       1434.0      110.0  64.000000  38.800000   \n1  32  tune_squad2  1795.0       1481.8      112.1  62.000000  35.400000   \n2  33  tune_squad3  1805.0       1509.9      108.6  64.000000  35.400000   \n3  34  tune_squad4  1743.0       1422.4      112.9  64.000000  36.300000   \n4  35  tune_squad5  1963.0       1539.1      117.4  59.771429  35.208333   \n\n     TS%   AST    TO   USG  ORR   DRR  REBR        PER         player_name  \n0  0.619  31.5  14.9  35.5  8.3  17.6  12.8  28.440000           Sylvester  \n1  0.608  31.9  14.5  32.0  6.5  22.5  12.9  23.340000  Marvin the Martian  \n2  0.622  27.9  13.9  36.0  5.9  27.7  12.2  22.410000         Road Runner  \n3  0.619  30.9  15.6  34.5  5.9  18.9  14.8  29.853138     Foghorn Leghorn  \n4  0.633  32.3  16.2  34.0  5.9  19.8  13.1  27.160000          Bugs Bunny  "
     },
     "execution_count": 17,
     "metadata": {},
     "output_type": "execute_result"
    }
   ],
   "source": [
    "ts_df = pd.merge(ts_df, ts_name_df, on='ID', how='left', suffixes=('_type','_name'))\r\n",
    "ts_df.head()"
   ]
  },
  {
   "cell_type": "code",
   "execution_count": 19,
   "metadata": {},
   "outputs": [
    {
     "data": {
      "text/html": "<div>\n<style scoped>\n    .dataframe tbody tr th:only-of-type {\n        vertical-align: middle;\n    }\n\n    .dataframe tbody tr th {\n        vertical-align: top;\n    }\n\n    .dataframe thead th {\n        text-align: right;\n    }\n</style>\n<table border=\"1\" class=\"dataframe\">\n  <thead>\n    <tr style=\"text-align: right;\">\n      <th></th>\n      <th>ID</th>\n      <th>player_name</th>\n      <th>points</th>\n      <th>possessions</th>\n      <th>team_pace</th>\n      <th>GP</th>\n      <th>MPG</th>\n      <th>TS%</th>\n      <th>AST</th>\n      <th>TO</th>\n      <th>USG</th>\n      <th>ORR</th>\n      <th>DRR</th>\n      <th>REBR</th>\n      <th>PER</th>\n    </tr>\n  </thead>\n  <tbody>\n    <tr>\n      <th>0</th>\n      <td>31</td>\n      <td>Sylvester</td>\n      <td>2049.0</td>\n      <td>1434.0</td>\n      <td>110.0</td>\n      <td>64.000000</td>\n      <td>38.800000</td>\n      <td>0.619</td>\n      <td>31.5</td>\n      <td>14.9</td>\n      <td>35.5</td>\n      <td>8.3</td>\n      <td>17.6</td>\n      <td>12.8</td>\n      <td>28.440000</td>\n    </tr>\n    <tr>\n      <th>1</th>\n      <td>32</td>\n      <td>Marvin the Martian</td>\n      <td>1795.0</td>\n      <td>1481.8</td>\n      <td>112.1</td>\n      <td>62.000000</td>\n      <td>35.400000</td>\n      <td>0.608</td>\n      <td>31.9</td>\n      <td>14.5</td>\n      <td>32.0</td>\n      <td>6.5</td>\n      <td>22.5</td>\n      <td>12.9</td>\n      <td>23.340000</td>\n    </tr>\n    <tr>\n      <th>2</th>\n      <td>33</td>\n      <td>Road Runner</td>\n      <td>1805.0</td>\n      <td>1509.9</td>\n      <td>108.6</td>\n      <td>64.000000</td>\n      <td>35.400000</td>\n      <td>0.622</td>\n      <td>27.9</td>\n      <td>13.9</td>\n      <td>36.0</td>\n      <td>5.9</td>\n      <td>27.7</td>\n      <td>12.2</td>\n      <td>22.410000</td>\n    </tr>\n    <tr>\n      <th>3</th>\n      <td>34</td>\n      <td>Foghorn Leghorn</td>\n      <td>1743.0</td>\n      <td>1422.4</td>\n      <td>112.9</td>\n      <td>64.000000</td>\n      <td>36.300000</td>\n      <td>0.619</td>\n      <td>30.9</td>\n      <td>15.6</td>\n      <td>34.5</td>\n      <td>5.9</td>\n      <td>18.9</td>\n      <td>14.8</td>\n      <td>29.853138</td>\n    </tr>\n    <tr>\n      <th>4</th>\n      <td>35</td>\n      <td>Bugs Bunny</td>\n      <td>1963.0</td>\n      <td>1539.1</td>\n      <td>117.4</td>\n      <td>59.771429</td>\n      <td>35.208333</td>\n      <td>0.633</td>\n      <td>32.3</td>\n      <td>16.2</td>\n      <td>34.0</td>\n      <td>5.9</td>\n      <td>19.8</td>\n      <td>13.1</td>\n      <td>27.160000</td>\n    </tr>\n  </tbody>\n</table>\n</div>",
      "text/plain": "   ID         player_name  points  possessions  team_pace         GP  \\\n0  31           Sylvester  2049.0       1434.0      110.0  64.000000   \n1  32  Marvin the Martian  1795.0       1481.8      112.1  62.000000   \n2  33         Road Runner  1805.0       1509.9      108.6  64.000000   \n3  34     Foghorn Leghorn  1743.0       1422.4      112.9  64.000000   \n4  35          Bugs Bunny  1963.0       1539.1      117.4  59.771429   \n\n         MPG    TS%   AST    TO   USG  ORR   DRR  REBR        PER  \n0  38.800000  0.619  31.5  14.9  35.5  8.3  17.6  12.8  28.440000  \n1  35.400000  0.608  31.9  14.5  32.0  6.5  22.5  12.9  23.340000  \n2  35.400000  0.622  27.9  13.9  36.0  5.9  27.7  12.2  22.410000  \n3  36.300000  0.619  30.9  15.6  34.5  5.9  18.9  14.8  29.853138  \n4  35.208333  0.633  32.3  16.2  34.0  5.9  19.8  13.1  27.160000  "
     },
     "execution_count": 19,
     "metadata": {},
     "output_type": "execute_result"
    }
   ],
   "source": [
    "# Rearrange the columns to put the ID and player_name columns next to each other.\r\n",
    "column_list = list(ts_df)\r\n",
    "\r\n",
    "player_name = column_list.pop()\r\n",
    "column_list[1] = player_name\r\n",
    "\r\n",
    "ts_df = ts_df[column_list]\r\n",
    "ts_df.head()"
   ]
  },
  {
   "cell_type": "code",
   "execution_count": 20,
   "metadata": {},
   "outputs": [
    {
     "data": {
      "text/plain": "TS%     0.008262\nAST     2.140494\nTO      0.797197\nUSG     1.892718\nORR     1.139465\nDRR     3.017962\nREBR    1.802564\ndtype: float64"
     },
     "execution_count": 20,
     "metadata": {},
     "output_type": "execute_result"
    }
   ],
   "source": [
    "# Create a list of only the column names we are interested in.\r\n",
    "game_stat_cols = list(ts_df.iloc[:, 7:-1])\r\n",
    "game_stat_stdevs = []\r\n",
    "\r\n",
    "# Create a list of standard deviations for each stat.\r\n",
    "for stat in game_stat_cols:\r\n",
    "    game_stat_stdevs.append(ts_df[stat].std())\r\n",
    "\r\n",
    "# Create a Series of the standard deviations, with the stat names as the index.\r\n",
    "stdev_s = pd.Series(game_stat_stdevs, index=game_stat_cols)\r\n",
    "stdev_s"
   ]
  },
  {
   "cell_type": "code",
   "execution_count": 21,
   "metadata": {},
   "outputs": [],
   "source": [
    "# Import the models and libraries we need.\r\n",
    "from sklearn.linear_model import LinearRegression\r\n",
    "from numpy.random import randn\r\n",
    "\r\n",
    "# Get the dependent and independent variables for modeling the PER.\r\n",
    "X = player_df_final.iloc[:, 7:-1].to_numpy()\r\n",
    "y = player_df_final.iloc[:, -1]"
   ]
  },
  {
   "cell_type": "code",
   "execution_count": 22,
   "metadata": {},
   "outputs": [
    {
     "data": {
      "text/plain": "LinearRegression()"
     },
     "execution_count": 22,
     "metadata": {},
     "output_type": "execute_result"
    }
   ],
   "source": [
    "# Define and fit the model.\r\n",
    "lin_reg = LinearRegression()\r\n",
    "lin_reg.fit(X, y)"
   ]
  },
  {
   "cell_type": "code",
   "execution_count": 24,
   "metadata": {},
   "outputs": [
    {
     "name": "stdout",
     "output_type": "stream",
     "text": [
      "Iteration # \thigh PER \tlow PER\n",
      "Iteration 1 \tBugs Bunny \tTweety\n",
      "Iteration 2 \tDaffy Duck \tMarvin the Martian\n",
      "Iteration 3 \tSylvester \tTasmanian Devil\n",
      "Iteration 4 \tLola Bunny \tTasmanian Devil\n",
      "Iteration 5 \tGossamer \tPorky Pig\n",
      "Iteration 6 \tFoghorn Leghorn \tTasmanian Devil\n",
      "Iteration 7 \tLola Bunny \tPenelope\n",
      "Iteration 8 \tLola Bunny \tPenelope\n",
      "Iteration 9 \tSylvester \tTasmanian Devil\n",
      "Iteration 10 \tWile E. Coyote \tPenelope\n"
     ]
    }
   ],
   "source": [
    "# Print the player with the highest and lower PER for each iteration.\r\n",
    "print('Iteration # \\thigh PER \\tlow PER')\r\n",
    "# Run the simulation 10 times.\r\n",
    "for i in range(10):\r\n",
    "\r\n",
    "    # Define an empty temporary DataFrame for each iteration.\r\n",
    "    # The columns of this DataFrame are the player stats and the index is the players' names.\r\n",
    "    game_df = pd.DataFrame(columns=game_stat_cols, index=list(ts_df['player_name']))\r\n",
    "    \r\n",
    "    # Loop through each stat.\r\n",
    "    for stat in game_stat_cols:\r\n",
    "        \r\n",
    "        # Each player's stats are used to generate a random value for each iteration.\r\n",
    "        game_df[stat] = list(ts_df[stat] + randn(len(ts_df)) * stdev_s[stat])\r\n",
    "    \r\n",
    "    # Use the fitted model to predict players' PERs based on the randomized data.\r\n",
    "    game_df['PER'] = lin_reg.predict(game_df)\r\n",
    "\r\n",
    "    # Print the player with the highest and lower PER for each iteration.\r\n",
    "    print('Iteration {}'.format(i+1) + ' \\t' + game_df['PER'].idxmax() + ' \\t' + game_df['PER'].idxmin())"
   ]
  },
  {
   "cell_type": "code",
   "execution_count": 25,
   "metadata": {},
   "outputs": [
    {
     "data": {
      "text/html": "<div>\n<style scoped>\n    .dataframe tbody tr th:only-of-type {\n        vertical-align: middle;\n    }\n\n    .dataframe tbody tr th {\n        vertical-align: top;\n    }\n\n    .dataframe thead th {\n        text-align: right;\n    }\n</style>\n<table border=\"1\" class=\"dataframe\">\n  <thead>\n    <tr style=\"text-align: right;\">\n      <th></th>\n      <th></th>\n      <th>TS%</th>\n      <th>AST</th>\n      <th>TO</th>\n      <th>USG</th>\n      <th>ORR</th>\n      <th>DRR</th>\n      <th>REBR</th>\n      <th>PER</th>\n    </tr>\n    <tr>\n      <th>minutes</th>\n      <th>player_name</th>\n      <th></th>\n      <th></th>\n      <th></th>\n      <th></th>\n      <th></th>\n      <th></th>\n      <th></th>\n      <th></th>\n    </tr>\n  </thead>\n  <tbody>\n    <tr>\n      <th rowspan=\"15\" valign=\"top\">0</th>\n      <th>Sylvester</th>\n      <td>0.616482</td>\n      <td>32.787240</td>\n      <td>15.934936</td>\n      <td>37.697011</td>\n      <td>8.545862</td>\n      <td>19.650596</td>\n      <td>14.674384</td>\n      <td>30.324530</td>\n    </tr>\n    <tr>\n      <th>Marvin the Martian</th>\n      <td>0.613089</td>\n      <td>35.008549</td>\n      <td>13.791024</td>\n      <td>31.517150</td>\n      <td>7.127433</td>\n      <td>20.153726</td>\n      <td>9.408707</td>\n      <td>20.575564</td>\n    </tr>\n    <tr>\n      <th>Road Runner</th>\n      <td>0.631230</td>\n      <td>27.332883</td>\n      <td>13.691525</td>\n      <td>34.319879</td>\n      <td>7.161164</td>\n      <td>31.134806</td>\n      <td>8.885173</td>\n      <td>15.050580</td>\n    </tr>\n    <tr>\n      <th>Foghorn Leghorn</th>\n      <td>0.614197</td>\n      <td>30.093026</td>\n      <td>14.309448</td>\n      <td>29.643865</td>\n      <td>6.827630</td>\n      <td>18.584159</td>\n      <td>14.850344</td>\n      <td>27.345822</td>\n    </tr>\n    <tr>\n      <th>Bugs Bunny</th>\n      <td>0.628192</td>\n      <td>33.293156</td>\n      <td>17.058774</td>\n      <td>37.907783</td>\n      <td>7.040165</td>\n      <td>17.010505</td>\n      <td>13.516133</td>\n      <td>30.948114</td>\n    </tr>\n    <tr>\n      <th>Elmer Fudd</th>\n      <td>0.613141</td>\n      <td>31.396206</td>\n      <td>16.998545</td>\n      <td>34.202349</td>\n      <td>4.022328</td>\n      <td>21.936683</td>\n      <td>15.388037</td>\n      <td>28.022785</td>\n    </tr>\n    <tr>\n      <th>Lola Bunny</th>\n      <td>0.627045</td>\n      <td>36.622185</td>\n      <td>13.592868</td>\n      <td>38.534778</td>\n      <td>3.356071</td>\n      <td>25.885427</td>\n      <td>14.528039</td>\n      <td>30.345264</td>\n    </tr>\n    <tr>\n      <th>Porky Pig</th>\n      <td>0.618906</td>\n      <td>31.978385</td>\n      <td>16.801070</td>\n      <td>38.208777</td>\n      <td>6.681277</td>\n      <td>13.182978</td>\n      <td>13.947052</td>\n      <td>33.672747</td>\n    </tr>\n    <tr>\n      <th>Tasmanian Devil</th>\n      <td>0.607658</td>\n      <td>24.347760</td>\n      <td>14.917802</td>\n      <td>35.958402</td>\n      <td>4.381364</td>\n      <td>20.124989</td>\n      <td>8.314560</td>\n      <td>20.439828</td>\n    </tr>\n    <tr>\n      <th>Gossamer</th>\n      <td>0.621634</td>\n      <td>30.053177</td>\n      <td>15.981731</td>\n      <td>35.576605</td>\n      <td>6.523639</td>\n      <td>14.118712</td>\n      <td>14.355705</td>\n      <td>32.544972</td>\n    </tr>\n    <tr>\n      <th>Granny</th>\n      <td>0.613922</td>\n      <td>25.964993</td>\n      <td>15.838815</td>\n      <td>33.532525</td>\n      <td>7.504247</td>\n      <td>22.569546</td>\n      <td>13.688524</td>\n      <td>24.151567</td>\n    </tr>\n    <tr>\n      <th>Wile E. Coyote</th>\n      <td>0.618689</td>\n      <td>32.546198</td>\n      <td>13.894481</td>\n      <td>33.890804</td>\n      <td>4.877905</td>\n      <td>22.814571</td>\n      <td>14.058916</td>\n      <td>27.387987</td>\n    </tr>\n    <tr>\n      <th>Tweety</th>\n      <td>0.612256</td>\n      <td>27.963992</td>\n      <td>12.147221</td>\n      <td>38.627101</td>\n      <td>5.897723</td>\n      <td>15.485081</td>\n      <td>10.225069</td>\n      <td>29.342177</td>\n    </tr>\n    <tr>\n      <th>Penelope</th>\n      <td>0.630478</td>\n      <td>28.776583</td>\n      <td>16.935334</td>\n      <td>27.626105</td>\n      <td>9.846656</td>\n      <td>24.210831</td>\n      <td>10.280330</td>\n      <td>14.887598</td>\n    </tr>\n    <tr>\n      <th>Daffy Duck</th>\n      <td>0.625338</td>\n      <td>30.789951</td>\n      <td>15.355900</td>\n      <td>32.637203</td>\n      <td>6.249711</td>\n      <td>14.331930</td>\n      <td>15.497076</td>\n      <td>32.936727</td>\n    </tr>\n    <tr>\n      <th rowspan=\"15\" valign=\"top\">12</th>\n      <th>Sylvester</th>\n      <td>0.617974</td>\n      <td>32.097842</td>\n      <td>15.551162</td>\n      <td>34.897166</td>\n      <td>8.026001</td>\n      <td>19.553028</td>\n      <td>11.636741</td>\n      <td>24.852444</td>\n    </tr>\n    <tr>\n      <th>Marvin the Martian</th>\n      <td>0.597162</td>\n      <td>33.315642</td>\n      <td>17.155143</td>\n      <td>28.846713</td>\n      <td>6.707280</td>\n      <td>24.744531</td>\n      <td>15.246639</td>\n      <td>21.396711</td>\n    </tr>\n    <tr>\n      <th>Road Runner</th>\n      <td>0.633720</td>\n      <td>27.437079</td>\n      <td>12.273437</td>\n      <td>35.960610</td>\n      <td>8.369632</td>\n      <td>26.511625</td>\n      <td>12.876346</td>\n      <td>25.074668</td>\n    </tr>\n    <tr>\n      <th>Foghorn Leghorn</th>\n      <td>0.611024</td>\n      <td>33.741583</td>\n      <td>15.476043</td>\n      <td>36.006766</td>\n      <td>5.057275</td>\n      <td>13.198094</td>\n      <td>16.886238</td>\n      <td>37.293373</td>\n    </tr>\n    <tr>\n      <th>Bugs Bunny</th>\n      <td>0.621195</td>\n      <td>34.151634</td>\n      <td>17.327784</td>\n      <td>32.104575</td>\n      <td>7.111392</td>\n      <td>22.080693</td>\n      <td>9.824567</td>\n      <td>18.725476</td>\n    </tr>\n    <tr>\n      <th>Elmer Fudd</th>\n      <td>0.621528</td>\n      <td>29.128807</td>\n      <td>15.561807</td>\n      <td>35.909882</td>\n      <td>5.151233</td>\n      <td>23.959976</td>\n      <td>16.227138</td>\n      <td>29.727308</td>\n    </tr>\n    <tr>\n      <th>Lola Bunny</th>\n      <td>0.633052</td>\n      <td>32.379817</td>\n      <td>14.821602</td>\n      <td>35.384205</td>\n      <td>4.809713</td>\n      <td>23.563041</td>\n      <td>15.359517</td>\n      <td>29.927434</td>\n    </tr>\n    <tr>\n      <th>Porky Pig</th>\n      <td>0.616648</td>\n      <td>31.324562</td>\n      <td>16.619901</td>\n      <td>37.403599</td>\n      <td>5.113629</td>\n      <td>24.579920</td>\n      <td>12.506671</td>\n      <td>24.432676</td>\n    </tr>\n    <tr>\n      <th>Tasmanian Devil</th>\n      <td>0.606275</td>\n      <td>29.730030</td>\n      <td>13.922736</td>\n      <td>32.886306</td>\n      <td>4.867743</td>\n      <td>24.728563</td>\n      <td>6.937811</td>\n      <td>14.718782</td>\n    </tr>\n    <tr>\n      <th>Gossamer</th>\n      <td>0.621781</td>\n      <td>33.013483</td>\n      <td>15.701598</td>\n      <td>34.551567</td>\n      <td>6.389743</td>\n      <td>20.352561</td>\n      <td>16.060849</td>\n      <td>30.925226</td>\n    </tr>\n    <tr>\n      <th>Granny</th>\n      <td>0.617621</td>\n      <td>29.005289</td>\n      <td>14.280501</td>\n      <td>31.286106</td>\n      <td>6.991358</td>\n      <td>20.472849</td>\n      <td>13.095193</td>\n      <td>24.786259</td>\n    </tr>\n    <tr>\n      <th>Wile E. Coyote</th>\n      <td>0.607596</td>\n      <td>32.239709</td>\n      <td>15.406667</td>\n      <td>34.398136</td>\n      <td>5.523018</td>\n      <td>21.574684</td>\n      <td>14.290428</td>\n      <td>27.116404</td>\n    </tr>\n    <tr>\n      <th>Tweety</th>\n      <td>0.611094</td>\n      <td>26.637006</td>\n      <td>12.803851</td>\n      <td>34.495709</td>\n      <td>7.520881</td>\n      <td>24.861649</td>\n      <td>9.808843</td>\n      <td>19.512066</td>\n    </tr>\n    <tr>\n      <th>Penelope</th>\n      <td>0.612208</td>\n      <td>27.954994</td>\n      <td>15.214286</td>\n      <td>26.496829</td>\n      <td>7.882471</td>\n      <td>17.915626</td>\n      <td>14.240632</td>\n      <td>23.936896</td>\n    </tr>\n    <tr>\n      <th>Daffy Duck</th>\n      <td>0.630096</td>\n      <td>31.977700</td>\n      <td>14.861979</td>\n      <td>35.111325</td>\n      <td>6.464156</td>\n      <td>16.038088</td>\n      <td>10.124626</td>\n      <td>26.513082</td>\n    </tr>\n    <tr>\n      <th rowspan=\"15\" valign=\"top\">24</th>\n      <th>Sylvester</th>\n      <td>0.624121</td>\n      <td>30.289580</td>\n      <td>15.279168</td>\n      <td>32.369015</td>\n      <td>9.148506</td>\n      <td>20.503181</td>\n      <td>10.988143</td>\n      <td>21.890941</td>\n    </tr>\n    <tr>\n      <th>Marvin the Martian</th>\n      <td>0.615988</td>\n      <td>31.543248</td>\n      <td>15.774584</td>\n      <td>28.526662</td>\n      <td>7.488778</td>\n      <td>24.840662</td>\n      <td>12.528044</td>\n      <td>18.841290</td>\n    </tr>\n    <tr>\n      <th>Road Runner</th>\n      <td>0.625247</td>\n      <td>27.971170</td>\n      <td>13.039947</td>\n      <td>33.346075</td>\n      <td>5.283878</td>\n      <td>30.566993</td>\n      <td>13.373278</td>\n      <td>21.604595</td>\n    </tr>\n    <tr>\n      <th>Foghorn Leghorn</th>\n      <td>0.619304</td>\n      <td>31.388003</td>\n      <td>15.916016</td>\n      <td>35.890311</td>\n      <td>4.473536</td>\n      <td>15.731468</td>\n      <td>16.800671</td>\n      <td>35.677471</td>\n    </tr>\n    <tr>\n      <th>Bugs Bunny</th>\n      <td>0.628822</td>\n      <td>33.988949</td>\n      <td>17.098073</td>\n      <td>38.184847</td>\n      <td>4.745986</td>\n      <td>21.581687</td>\n      <td>14.406738</td>\n      <td>30.177122</td>\n    </tr>\n    <tr>\n      <th>Elmer Fudd</th>\n      <td>0.638239</td>\n      <td>31.220904</td>\n      <td>15.760388</td>\n      <td>36.145912</td>\n      <td>3.312134</td>\n      <td>22.871711</td>\n      <td>14.220910</td>\n      <td>29.266745</td>\n    </tr>\n    <tr>\n      <th>Lola Bunny</th>\n      <td>0.635004</td>\n      <td>37.295828</td>\n      <td>13.496405</td>\n      <td>37.692337</td>\n      <td>5.111060</td>\n      <td>20.044406</td>\n      <td>17.609392</td>\n      <td>37.868669</td>\n    </tr>\n    <tr>\n      <th>Porky Pig</th>\n      <td>0.597232</td>\n      <td>29.583477</td>\n      <td>15.032126</td>\n      <td>33.444944</td>\n      <td>6.375751</td>\n      <td>14.566952</td>\n      <td>10.798264</td>\n      <td>25.181641</td>\n    </tr>\n    <tr>\n      <th>Tasmanian Devil</th>\n      <td>0.603547</td>\n      <td>27.135731</td>\n      <td>14.348135</td>\n      <td>35.598300</td>\n      <td>5.590083</td>\n      <td>22.569874</td>\n      <td>7.220406</td>\n      <td>17.244279</td>\n    </tr>\n    <tr>\n      <th>Gossamer</th>\n      <td>0.637690</td>\n      <td>31.809709</td>\n      <td>16.693606</td>\n      <td>35.902737</td>\n      <td>5.494206</td>\n      <td>13.619724</td>\n      <td>14.208194</td>\n      <td>33.794385</td>\n    </tr>\n    <tr>\n      <th>Granny</th>\n      <td>0.625193</td>\n      <td>27.270428</td>\n      <td>16.067653</td>\n      <td>36.310755</td>\n      <td>5.270376</td>\n      <td>20.884632</td>\n      <td>14.222869</td>\n      <td>28.805040</td>\n    </tr>\n    <tr>\n      <th>Wile E. Coyote</th>\n      <td>0.615705</td>\n      <td>31.158691</td>\n      <td>14.657788</td>\n      <td>32.375764</td>\n      <td>5.875009</td>\n      <td>22.451413</td>\n      <td>12.776925</td>\n      <td>23.944685</td>\n    </tr>\n    <tr>\n      <th>Tweety</th>\n      <td>0.626468</td>\n      <td>29.464053</td>\n      <td>12.416409</td>\n      <td>34.986321</td>\n      <td>6.768020</td>\n      <td>25.026638</td>\n      <td>12.442128</td>\n      <td>24.917084</td>\n    </tr>\n    <tr>\n      <th>Penelope</th>\n      <td>0.608260</td>\n      <td>30.327846</td>\n      <td>14.991635</td>\n      <td>32.218426</td>\n      <td>9.958692</td>\n      <td>19.319045</td>\n      <td>9.842273</td>\n      <td>20.000593</td>\n    </tr>\n    <tr>\n      <th>Daffy Duck</th>\n      <td>0.622614</td>\n      <td>33.313694</td>\n      <td>15.097364</td>\n      <td>33.719445</td>\n      <td>5.751038</td>\n      <td>15.879871</td>\n      <td>15.863113</td>\n      <td>33.496269</td>\n    </tr>\n    <tr>\n      <th rowspan=\"15\" valign=\"top\">36</th>\n      <th>Sylvester</th>\n      <td>0.615444</td>\n      <td>27.763383</td>\n      <td>14.090280</td>\n      <td>36.321056</td>\n      <td>9.033156</td>\n      <td>18.102636</td>\n      <td>9.358339</td>\n      <td>23.430365</td>\n    </tr>\n    <tr>\n      <th>Marvin the Martian</th>\n      <td>0.610295</td>\n      <td>35.479674</td>\n      <td>13.815853</td>\n      <td>29.186012</td>\n      <td>7.007465</td>\n      <td>21.396788</td>\n      <td>11.363251</td>\n      <td>21.025765</td>\n    </tr>\n    <tr>\n      <th>Road Runner</th>\n      <td>0.637649</td>\n      <td>24.570801</td>\n      <td>13.986057</td>\n      <td>34.516631</td>\n      <td>6.414724</td>\n      <td>23.452343</td>\n      <td>13.770856</td>\n      <td>26.826626</td>\n    </tr>\n    <tr>\n      <th>Foghorn Leghorn</th>\n      <td>0.626813</td>\n      <td>31.097237</td>\n      <td>15.871481</td>\n      <td>33.200377</td>\n      <td>5.433493</td>\n      <td>13.165303</td>\n      <td>14.396218</td>\n      <td>32.501051</td>\n    </tr>\n    <tr>\n      <th>Bugs Bunny</th>\n      <td>0.622029</td>\n      <td>32.006833</td>\n      <td>16.935313</td>\n      <td>33.196925</td>\n      <td>7.002542</td>\n      <td>18.510722</td>\n      <td>13.540016</td>\n      <td>26.830756</td>\n    </tr>\n    <tr>\n      <th>Elmer Fudd</th>\n      <td>0.615324</td>\n      <td>30.006863</td>\n      <td>14.719671</td>\n      <td>37.019098</td>\n      <td>3.621447</td>\n      <td>23.388789</td>\n      <td>13.003903</td>\n      <td>26.856786</td>\n    </tr>\n    <tr>\n      <th>Lola Bunny</th>\n      <td>0.629152</td>\n      <td>32.761135</td>\n      <td>14.906728</td>\n      <td>31.140870</td>\n      <td>4.807579</td>\n      <td>20.132583</td>\n      <td>15.350334</td>\n      <td>29.266511</td>\n    </tr>\n    <tr>\n      <th>Porky Pig</th>\n      <td>0.617115</td>\n      <td>32.381789</td>\n      <td>15.982112</td>\n      <td>36.181052</td>\n      <td>7.010536</td>\n      <td>18.981936</td>\n      <td>12.634951</td>\n      <td>27.355142</td>\n    </tr>\n    <tr>\n      <th>Tasmanian Devil</th>\n      <td>0.597813</td>\n      <td>28.018270</td>\n      <td>15.143856</td>\n      <td>34.761927</td>\n      <td>4.773527</td>\n      <td>21.445426</td>\n      <td>7.842550</td>\n      <td>17.826102</td>\n    </tr>\n    <tr>\n      <th>Gossamer</th>\n      <td>0.620532</td>\n      <td>34.685010</td>\n      <td>14.989209</td>\n      <td>33.569489</td>\n      <td>5.903286</td>\n      <td>12.351537</td>\n      <td>14.263606</td>\n      <td>33.410033</td>\n    </tr>\n    <tr>\n      <th>Granny</th>\n      <td>0.620004</td>\n      <td>29.326170</td>\n      <td>15.017354</td>\n      <td>35.460703</td>\n      <td>6.154106</td>\n      <td>19.962680</td>\n      <td>16.428879</td>\n      <td>32.198028</td>\n    </tr>\n    <tr>\n      <th>Wile E. Coyote</th>\n      <td>0.626709</td>\n      <td>30.989225</td>\n      <td>13.815503</td>\n      <td>38.197822</td>\n      <td>6.952573</td>\n      <td>22.980570</td>\n      <td>13.273653</td>\n      <td>28.601730</td>\n    </tr>\n    <tr>\n      <th>Tweety</th>\n      <td>0.592723</td>\n      <td>32.982516</td>\n      <td>13.871617</td>\n      <td>36.614551</td>\n      <td>6.904184</td>\n      <td>25.342383</td>\n      <td>10.888763</td>\n      <td>21.121299</td>\n    </tr>\n    <tr>\n      <th>Penelope</th>\n      <td>0.604961</td>\n      <td>26.390877</td>\n      <td>14.759631</td>\n      <td>29.711104</td>\n      <td>9.680277</td>\n      <td>16.492031</td>\n      <td>11.592878</td>\n      <td>22.303739</td>\n    </tr>\n    <tr>\n      <th>Daffy Duck</th>\n      <td>0.621316</td>\n      <td>26.146805</td>\n      <td>14.969569</td>\n      <td>34.343711</td>\n      <td>6.702121</td>\n      <td>10.351313</td>\n      <td>11.957895</td>\n      <td>30.927559</td>\n    </tr>\n  </tbody>\n</table>\n</div>",
      "text/plain": "                                 TS%        AST         TO        USG  \\\nminutes player_name                                                     \n0       Sylvester           0.616482  32.787240  15.934936  37.697011   \n        Marvin the Martian  0.613089  35.008549  13.791024  31.517150   \n        Road Runner         0.631230  27.332883  13.691525  34.319879   \n        Foghorn Leghorn     0.614197  30.093026  14.309448  29.643865   \n        Bugs Bunny          0.628192  33.293156  17.058774  37.907783   \n        Elmer Fudd          0.613141  31.396206  16.998545  34.202349   \n        Lola Bunny          0.627045  36.622185  13.592868  38.534778   \n        Porky Pig           0.618906  31.978385  16.801070  38.208777   \n        Tasmanian Devil     0.607658  24.347760  14.917802  35.958402   \n        Gossamer            0.621634  30.053177  15.981731  35.576605   \n        Granny              0.613922  25.964993  15.838815  33.532525   \n        Wile E. Coyote      0.618689  32.546198  13.894481  33.890804   \n        Tweety              0.612256  27.963992  12.147221  38.627101   \n        Penelope            0.630478  28.776583  16.935334  27.626105   \n        Daffy Duck          0.625338  30.789951  15.355900  32.637203   \n12      Sylvester           0.617974  32.097842  15.551162  34.897166   \n        Marvin the Martian  0.597162  33.315642  17.155143  28.846713   \n        Road Runner         0.633720  27.437079  12.273437  35.960610   \n        Foghorn Leghorn     0.611024  33.741583  15.476043  36.006766   \n        Bugs Bunny          0.621195  34.151634  17.327784  32.104575   \n        Elmer Fudd          0.621528  29.128807  15.561807  35.909882   \n        Lola Bunny          0.633052  32.379817  14.821602  35.384205   \n        Porky Pig           0.616648  31.324562  16.619901  37.403599   \n        Tasmanian Devil     0.606275  29.730030  13.922736  32.886306   \n        Gossamer            0.621781  33.013483  15.701598  34.551567   \n        Granny              0.617621  29.005289  14.280501  31.286106   \n        Wile E. Coyote      0.607596  32.239709  15.406667  34.398136   \n        Tweety              0.611094  26.637006  12.803851  34.495709   \n        Penelope            0.612208  27.954994  15.214286  26.496829   \n        Daffy Duck          0.630096  31.977700  14.861979  35.111325   \n24      Sylvester           0.624121  30.289580  15.279168  32.369015   \n        Marvin the Martian  0.615988  31.543248  15.774584  28.526662   \n        Road Runner         0.625247  27.971170  13.039947  33.346075   \n        Foghorn Leghorn     0.619304  31.388003  15.916016  35.890311   \n        Bugs Bunny          0.628822  33.988949  17.098073  38.184847   \n        Elmer Fudd          0.638239  31.220904  15.760388  36.145912   \n        Lola Bunny          0.635004  37.295828  13.496405  37.692337   \n        Porky Pig           0.597232  29.583477  15.032126  33.444944   \n        Tasmanian Devil     0.603547  27.135731  14.348135  35.598300   \n        Gossamer            0.637690  31.809709  16.693606  35.902737   \n        Granny              0.625193  27.270428  16.067653  36.310755   \n        Wile E. Coyote      0.615705  31.158691  14.657788  32.375764   \n        Tweety              0.626468  29.464053  12.416409  34.986321   \n        Penelope            0.608260  30.327846  14.991635  32.218426   \n        Daffy Duck          0.622614  33.313694  15.097364  33.719445   \n36      Sylvester           0.615444  27.763383  14.090280  36.321056   \n        Marvin the Martian  0.610295  35.479674  13.815853  29.186012   \n        Road Runner         0.637649  24.570801  13.986057  34.516631   \n        Foghorn Leghorn     0.626813  31.097237  15.871481  33.200377   \n        Bugs Bunny          0.622029  32.006833  16.935313  33.196925   \n        Elmer Fudd          0.615324  30.006863  14.719671  37.019098   \n        Lola Bunny          0.629152  32.761135  14.906728  31.140870   \n        Porky Pig           0.617115  32.381789  15.982112  36.181052   \n        Tasmanian Devil     0.597813  28.018270  15.143856  34.761927   \n        Gossamer            0.620532  34.685010  14.989209  33.569489   \n        Granny              0.620004  29.326170  15.017354  35.460703   \n        Wile E. Coyote      0.626709  30.989225  13.815503  38.197822   \n        Tweety              0.592723  32.982516  13.871617  36.614551   \n        Penelope            0.604961  26.390877  14.759631  29.711104   \n        Daffy Duck          0.621316  26.146805  14.969569  34.343711   \n\n                                 ORR        DRR       REBR        PER  \nminutes player_name                                                    \n0       Sylvester           8.545862  19.650596  14.674384  30.324530  \n        Marvin the Martian  7.127433  20.153726   9.408707  20.575564  \n        Road Runner         7.161164  31.134806   8.885173  15.050580  \n        Foghorn Leghorn     6.827630  18.584159  14.850344  27.345822  \n        Bugs Bunny          7.040165  17.010505  13.516133  30.948114  \n        Elmer Fudd          4.022328  21.936683  15.388037  28.022785  \n        Lola Bunny          3.356071  25.885427  14.528039  30.345264  \n        Porky Pig           6.681277  13.182978  13.947052  33.672747  \n        Tasmanian Devil     4.381364  20.124989   8.314560  20.439828  \n        Gossamer            6.523639  14.118712  14.355705  32.544972  \n        Granny              7.504247  22.569546  13.688524  24.151567  \n        Wile E. Coyote      4.877905  22.814571  14.058916  27.387987  \n        Tweety              5.897723  15.485081  10.225069  29.342177  \n        Penelope            9.846656  24.210831  10.280330  14.887598  \n        Daffy Duck          6.249711  14.331930  15.497076  32.936727  \n12      Sylvester           8.026001  19.553028  11.636741  24.852444  \n        Marvin the Martian  6.707280  24.744531  15.246639  21.396711  \n        Road Runner         8.369632  26.511625  12.876346  25.074668  \n        Foghorn Leghorn     5.057275  13.198094  16.886238  37.293373  \n        Bugs Bunny          7.111392  22.080693   9.824567  18.725476  \n        Elmer Fudd          5.151233  23.959976  16.227138  29.727308  \n        Lola Bunny          4.809713  23.563041  15.359517  29.927434  \n        Porky Pig           5.113629  24.579920  12.506671  24.432676  \n        Tasmanian Devil     4.867743  24.728563   6.937811  14.718782  \n        Gossamer            6.389743  20.352561  16.060849  30.925226  \n        Granny              6.991358  20.472849  13.095193  24.786259  \n        Wile E. Coyote      5.523018  21.574684  14.290428  27.116404  \n        Tweety              7.520881  24.861649   9.808843  19.512066  \n        Penelope            7.882471  17.915626  14.240632  23.936896  \n        Daffy Duck          6.464156  16.038088  10.124626  26.513082  \n24      Sylvester           9.148506  20.503181  10.988143  21.890941  \n        Marvin the Martian  7.488778  24.840662  12.528044  18.841290  \n        Road Runner         5.283878  30.566993  13.373278  21.604595  \n        Foghorn Leghorn     4.473536  15.731468  16.800671  35.677471  \n        Bugs Bunny          4.745986  21.581687  14.406738  30.177122  \n        Elmer Fudd          3.312134  22.871711  14.220910  29.266745  \n        Lola Bunny          5.111060  20.044406  17.609392  37.868669  \n        Porky Pig           6.375751  14.566952  10.798264  25.181641  \n        Tasmanian Devil     5.590083  22.569874   7.220406  17.244279  \n        Gossamer            5.494206  13.619724  14.208194  33.794385  \n        Granny              5.270376  20.884632  14.222869  28.805040  \n        Wile E. Coyote      5.875009  22.451413  12.776925  23.944685  \n        Tweety              6.768020  25.026638  12.442128  24.917084  \n        Penelope            9.958692  19.319045   9.842273  20.000593  \n        Daffy Duck          5.751038  15.879871  15.863113  33.496269  \n36      Sylvester           9.033156  18.102636   9.358339  23.430365  \n        Marvin the Martian  7.007465  21.396788  11.363251  21.025765  \n        Road Runner         6.414724  23.452343  13.770856  26.826626  \n        Foghorn Leghorn     5.433493  13.165303  14.396218  32.501051  \n        Bugs Bunny          7.002542  18.510722  13.540016  26.830756  \n        Elmer Fudd          3.621447  23.388789  13.003903  26.856786  \n        Lola Bunny          4.807579  20.132583  15.350334  29.266511  \n        Porky Pig           7.010536  18.981936  12.634951  27.355142  \n        Tasmanian Devil     4.773527  21.445426   7.842550  17.826102  \n        Gossamer            5.903286  12.351537  14.263606  33.410033  \n        Granny              6.154106  19.962680  16.428879  32.198028  \n        Wile E. Coyote      6.952573  22.980570  13.273653  28.601730  \n        Tweety              6.904184  25.342383  10.888763  21.121299  \n        Penelope            9.680277  16.492031  11.592878  22.303739  \n        Daffy Duck          6.702121  10.351313  11.957895  30.927559  "
     },
     "execution_count": 25,
     "metadata": {},
     "output_type": "execute_result"
    }
   ],
   "source": [
    "# Initialize four empty DataFrames, one for each 12-minute period.\r\n",
    "number_of_iterations = 4\r\n",
    "df_list = [pd.DataFrame(columns=game_stat_cols, index=list(ts_df['player_name'])) for i in range(number_of_iterations)]\r\n",
    "\r\n",
    "# For each period, generate randomized player data and predict the PER.\r\n",
    "# Use the model fitted earlier.\r\n",
    "for df in df_list:\r\n",
    "    for stat in game_stat_cols:\r\n",
    "        df[stat] = list(ts_df[stat] + randn(len(ts_df)) * stdev_s[stat])\r\n",
    "    df['PER'] = lin_reg.predict(df)\r\n",
    "\r\n",
    "# Concatenate the DataFrames and make the players' names the index.\r\n",
    "game_df = pd.concat(df_list)\r\n",
    "game_df.rename_axis('player_name', inplace=True)\r\n",
    "\r\n",
    "# Create another index for the period in question.\r\n",
    "minutes = [(x // len(ts_df)) * 12 for x in range(len(game_df))]\r\n",
    "game_df['minutes'] = minutes\r\n",
    "game_df.set_index('minutes', append=True, inplace=True)\r\n",
    "game_df = game_df.swaplevel()\r\n",
    "\r\n",
    "game_df"
   ]
  },
  {
   "cell_type": "code",
   "execution_count": 26,
   "metadata": {},
   "outputs": [],
   "source": [
    "# Export the finished DataFrame to CSV.\r\n",
    "game_df.to_csv('game_stats.csv')"
   ]
  }
 ],
 "metadata": {
  "interpreter": {
   "hash": "80fdde3cfee23b55cdbf060feb0f5b2671fc42991607a2ae5347d1e06f767ccc"
  },
  "kernelspec": {
   "display_name": "Python 3.8.5 64-bit ('base': conda)",
   "name": "python3"
  },
  "language_info": {
   "codemirror_mode": {
    "name": "ipython",
    "version": 3
   },
   "file_extension": ".py",
   "mimetype": "text/x-python",
   "name": "python",
   "nbconvert_exporter": "python",
   "pygments_lexer": "ipython3",
   "version": "3.8.5"
  },
  "orig_nbformat": 2
 },
 "nbformat": 4,
 "nbformat_minor": 2
}